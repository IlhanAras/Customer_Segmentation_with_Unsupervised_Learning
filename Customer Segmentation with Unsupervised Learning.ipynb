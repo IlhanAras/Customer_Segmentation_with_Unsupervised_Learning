{
 "cells": [
  {
   "cell_type": "markdown",
   "metadata": {},
   "source": [
    "# Customer Segmentation with Unsupervised Learning"
   ]
  },
  {
   "cell_type": "markdown",
   "metadata": {},
   "source": [
    "## Table of Context"
   ]
  },
  {
   "cell_type": "markdown",
   "metadata": {},
   "source": [
    "### \n",
    "- Business Problem\n",
    "\n",
    "- Source of dataset\n",
    "\n",
    "- Importing Dataset, Required Library and Functions\n",
    "\n",
    "- Exploratory Data Analysis\n",
    "    1. Overview\n",
    "    2. Analysis of Categorical Variables\n",
    "    3. Analysis of Numerical Variables\n",
    "    4. Analysis of Correlation\n",
    "    \n",
    "    \n",
    "- DATA PREPROCESSING\n",
    "    1. Missing Values (Eksik Değerler) and Feature Extraction (Özellik Çıkarımı) \n",
    "    2. Outliers (Aykırı Değerler)\n",
    "    3. LOG TRANSFORMATION\n",
    "    4. Feature Scaling (Özellik Ölçeklendirme) \n",
    "\n",
    "- Modelling(KMeans)  \n",
    "- Modelling(Hierarchical Clustering)    \n",
    "- REPORTING"
   ]
  },
  {
   "cell_type": "markdown",
   "metadata": {},
   "source": [
    "## Business Problem:\n",
    "\n",
    "Machine learning with rule-based customer segmentation method RFM Comparison of K-Means method for customer segmentation is expected."
   ]
  },
  {
   "cell_type": "markdown",
   "metadata": {},
   "source": [
    "## Source of dataset \n",
    "\n",
    "https://www.kaggle.com/datasets/jillwang87/online-retail-ii\n",
    "\n",
    "The data set named Online Retail II is the online sales of a UK-based retail company between 01/12/2009 and 09/12/2011.\n",
    "contains transactions. The company's product catalog includes souvenirs and the information that most of its customers are wholesalers.\n",
    "available."
   ]
  },
  {
   "cell_type": "markdown",
   "metadata": {},
   "source": [
    "### \n",
    "**InvoiceNo**: Invoice number. Nominal. A 6-digit integral number uniquely assigned to each transaction. If this code starts with the letter 'c', it indicates a cancellation.\n",
    "\n",
    "**StockCode**: Product (item) code. Nominal. A 5-digit integral number uniquely assigned to each distinct product.\n",
    "\n",
    "**Description**: Product (item) name. Nominal.\n",
    "\n",
    "**Quantity**: The quantities of each product (item) per transaction. Numeric.\n",
    "\n",
    "**InvoiceDate**: Invoice date and time. Numeric. The day and time when a transaction was generated.\n",
    "\n",
    "**UnitPrice**: Unit price. Numeric. Product price per unit in sterling.\n",
    "\n",
    "**CustomerID**: Customer number. Nominal. A 5-digit integral number uniquely assigned to each customer.\n",
    "\n",
    "**Country**: Country name. Nominal. The name of the country where a customer resides."
   ]
  },
  {
   "cell_type": "markdown",
   "metadata": {},
   "source": [
    "## Importing Dataset, Required Library and Functions"
   ]
  },
  {
   "cell_type": "code",
   "execution_count": 188,
   "metadata": {},
   "outputs": [],
   "source": [
    "import pandas as pd\n",
    "from scipy import stats\n",
    "import datetime as dt\n",
    "import matplotlib.pyplot as plt\n",
    "from sklearn.preprocessing import MinMaxScaler\n",
    "from sklearn.cluster import KMeans\n",
    "from scipy.cluster.hierarchy import dendrogram\n",
    "from scipy.cluster.hierarchy import linkage\n",
    "from yellowbrick.cluster import KElbowVisualizer\n",
    "from sklearn.cluster import AgglomerativeClustering\n",
    "from sklearn.preprocessing import StandardScaler\n",
    "\n",
    "import seaborn as sns\n",
    "import numpy as np\n",
    "import warnings\n",
    "\n",
    "pd.set_option ('display.max_columns', 50)\n",
    "pd.set_option ('display.max_rows', 50)\n",
    "pd.set_option ('display.float_format', lambda x: '%.2f' % x)\n",
    "pd.set_option ('display.width', 1000)\n",
    "warnings.filterwarnings (\"ignore\")\n",
    "\n",
    "df_ = pd.read_excel (r\"\\online_retail_II-230817-120704.xlsx\", sheet_name=\"Year 2009-2010\")\n",
    "\n"
   ]
  },
  {
   "cell_type": "markdown",
   "metadata": {},
   "source": [
    "# Exploratory Data Analysis\n",
    "\n",
    "1. Overview\n",
    "2. Analysis of Categorical Variables\n",
    "3. Analysis of Numerical Variables\n",
    "4. Analysis of Correlation"
   ]
  },
  {
   "cell_type": "markdown",
   "metadata": {},
   "source": [
    "# 1. Overview\n",
    "Lets start with taking a copy and information about data set."
   ]
  },
  {
   "cell_type": "code",
   "execution_count": 189,
   "metadata": {},
   "outputs": [],
   "source": [
    "df = df_.copy ()"
   ]
  },
  {
   "cell_type": "code",
   "execution_count": 190,
   "metadata": {},
   "outputs": [],
   "source": [
    "def check_df(dataframe, head=5):\n",
    "    print(f\"##################### Shape #####################\\n\")\n",
    "    print(dataframe.shape)\n",
    "\n",
    "    print(f\"\\n##################### Types #####################\\n\")\n",
    "    print(dataframe.dtypes)\n",
    "\n",
    "    print(f\"\\n##################### Head #####################\\n\")\n",
    "    print(dataframe.head(head))\n",
    "\n",
    "    print(f\"\\n##################### Tail #####################\\n\")\n",
    "    print(dataframe.tail(head))\n",
    "\n",
    "    print(f\"\\n##################### NA #####################\\n\")\n",
    "    print(dataframe.isnull().sum())\n",
    "\n",
    "    print(f\"\\n##################### Quantiles #####################\\n\")\n",
    "    print(dataframe.quantile([0, 0.05, 0.50, 0.95, 0.99, 1]).T)"
   ]
  },
  {
   "cell_type": "code",
   "execution_count": 191,
   "metadata": {},
   "outputs": [
    {
     "name": "stdout",
     "output_type": "stream",
     "text": [
      "##################### Shape #####################\n",
      "\n",
      "(525461, 8)\n",
      "\n",
      "##################### Types #####################\n",
      "\n",
      "Invoice                object\n",
      "StockCode              object\n",
      "Description            object\n",
      "Quantity                int64\n",
      "InvoiceDate    datetime64[ns]\n",
      "Price                 float64\n",
      "Customer ID           float64\n",
      "Country                object\n",
      "dtype: object\n",
      "\n",
      "##################### Head #####################\n",
      "\n",
      "  Invoice StockCode                          Description  Quantity         InvoiceDate  Price  Customer ID         Country\n",
      "0  489434     85048  15CM CHRISTMAS GLASS BALL 20 LIGHTS        12 2009-12-01 07:45:00   6.95     13085.00  United Kingdom\n",
      "1  489434    79323P                   PINK CHERRY LIGHTS        12 2009-12-01 07:45:00   6.75     13085.00  United Kingdom\n",
      "2  489434    79323W                  WHITE CHERRY LIGHTS        12 2009-12-01 07:45:00   6.75     13085.00  United Kingdom\n",
      "3  489434     22041         RECORD FRAME 7\" SINGLE SIZE         48 2009-12-01 07:45:00   2.10     13085.00  United Kingdom\n",
      "4  489434     21232       STRAWBERRY CERAMIC TRINKET BOX        24 2009-12-01 07:45:00   1.25     13085.00  United Kingdom\n",
      "\n",
      "##################### Tail #####################\n",
      "\n",
      "       Invoice StockCode                         Description  Quantity         InvoiceDate  Price  Customer ID         Country\n",
      "525456  538171     22271                FELTCRAFT DOLL ROSIE         2 2010-12-09 20:01:00   2.95     17530.00  United Kingdom\n",
      "525457  538171     22750        FELTCRAFT PRINCESS LOLA DOLL         1 2010-12-09 20:01:00   3.75     17530.00  United Kingdom\n",
      "525458  538171     22751      FELTCRAFT PRINCESS OLIVIA DOLL         1 2010-12-09 20:01:00   3.75     17530.00  United Kingdom\n",
      "525459  538171     20970  PINK FLORAL FELTCRAFT SHOULDER BAG         2 2010-12-09 20:01:00   3.75     17530.00  United Kingdom\n",
      "525460  538171     21931              JUMBO STORAGE BAG SUKI         2 2010-12-09 20:01:00   1.95     17530.00  United Kingdom\n",
      "\n",
      "##################### NA #####################\n",
      "\n",
      "Invoice             0\n",
      "StockCode           0\n",
      "Description      2928\n",
      "Quantity            0\n",
      "InvoiceDate         0\n",
      "Price               0\n",
      "Customer ID    107927\n",
      "Country             0\n",
      "dtype: int64\n",
      "\n",
      "##################### Quantiles #####################\n",
      "\n",
      "                 0.00     0.05     0.50     0.95     0.99     1.00\n",
      "Quantity     -9600.00     1.00     3.00    30.00   120.00 19152.00\n",
      "Price       -53594.36     0.42     2.10    10.17    19.95 25111.09\n",
      "Customer ID  12346.00 12725.00 15311.00 17913.00 18196.00 18287.00\n"
     ]
    }
   ],
   "source": [
    "check_df(df)"
   ]
  },
  {
   "cell_type": "code",
   "execution_count": 192,
   "metadata": {},
   "outputs": [],
   "source": [
    "def grab_col_names(dataframe, cat_th=10, car_th=20):\n",
    "    \"\"\"\n",
    "\n",
    "    It gives the names of categorical, numerical and categorical but cardinal variables in the data set.\n",
    "     Note: Categorical variables with numerical appearance are also included in categorical variables.\n",
    "\n",
    "    Parameters\n",
    "    ------\n",
    "        dataframe: dataframe\n",
    "                The dataframe from which variable names are to be retrieved\n",
    "        cat_th: int, optional\n",
    "                Class threshold for numeric but categorical variables\n",
    "        car_th: int, optinal\n",
    "                Class threshold for categorical but cardinal variables\n",
    "\n",
    "    Returns\n",
    "    ------\n",
    "        cat_cols: list\n",
    "                Categorical Variables List\n",
    "        num_cols: list\n",
    "                Numeric Variables List\n",
    "        cat_but_car: list\n",
    "                Kategorik görünümlü kardinal değişken listesi\n",
    "\n",
    "    Examples\n",
    "    ------\n",
    "        import seaborn as sns\n",
    "        df = sns.load_dataset(\"iris\")\n",
    "        print(grab_col_names(df))\n",
    "\n",
    "\n",
    "    Notes\n",
    "    ------\n",
    "        cat_cols + num_cols + cat_but_car = Total Number of Variables\n",
    "        cat_cols includes num_but_cat\n",
    "        The sum of 3 lists with return is equal to the total number of variables: cat_cols + num_cols + cat_but_car = number of variables\n",
    "\n",
    "    \"\"\"\n",
    "\n",
    "\n",
    "    # cat_cols, cat_but_car\n",
    "    cat_cols = [col for col in dataframe.columns if dataframe[col].dtypes == \"O\"]\n",
    "    num_but_cat = [col for col in dataframe.columns if dataframe[col].nunique() < cat_th and\n",
    "                   dataframe[col].dtypes != \"O\"]\n",
    "    cat_but_car = [col for col in dataframe.columns if dataframe[col].nunique() > car_th and\n",
    "                   dataframe[col].dtypes == \"O\"]\n",
    "    cat_cols = cat_cols + num_but_cat\n",
    "    cat_cols = [col for col in cat_cols if col not in cat_but_car]\n",
    "\n",
    "    # num_cols\n",
    "    num_cols = [col for col in dataframe.columns if dataframe[col].dtypes != \"O\"]\n",
    "    num_cols = [col for col in num_cols if col not in num_but_cat]\n",
    "\n",
    "    print(f\"Observations: {dataframe.shape[0]}\")\n",
    "    print(f\"Variables: {dataframe.shape[1]}\")\n",
    "    print(f'cat_cols: {len(cat_cols)}')\n",
    "    print(f'num_cols: {len(num_cols)}')\n",
    "    print(f'cat_but_car: {len(cat_but_car)}')\n",
    "    print(f'num_but_cat: {len(num_but_cat)}')\n",
    "    return cat_cols, num_cols, cat_but_car"
   ]
  },
  {
   "cell_type": "code",
   "execution_count": 193,
   "metadata": {},
   "outputs": [
    {
     "name": "stdout",
     "output_type": "stream",
     "text": [
      "Observations: 525461\n",
      "Variables: 8\n",
      "cat_cols: 0\n",
      "num_cols: 4\n",
      "cat_but_car: 4\n",
      "num_but_cat: 0\n"
     ]
    }
   ],
   "source": [
    "cat_cols, num_cols, cat_but_car = grab_col_names(df)"
   ]
  },
  {
   "cell_type": "markdown",
   "metadata": {},
   "source": [
    "# 2. Analysis of Categorical Variables"
   ]
  },
  {
   "cell_type": "code",
   "execution_count": 194,
   "metadata": {},
   "outputs": [],
   "source": [
    "def cat_summary(dataframe, col_name, plot=False):\n",
    "\n",
    "    print(pd.DataFrame({col_name: dataframe[col_name].value_counts(),\n",
    "                        \"Ratio\": 100 * dataframe[col_name].value_counts() / len(dataframe)}))\n",
    "    print(f\"######################\\n\")\n",
    "\n",
    "    if plot:\n",
    "        sns.countplot(x=dataframe[col_name], data=dataframe)\n",
    "        plt.show()"
   ]
  },
  {
   "cell_type": "code",
   "execution_count": 195,
   "metadata": {},
   "outputs": [
    {
     "name": "stdout",
     "output_type": "stream",
     "text": [
      "         Invoice  Ratio\n",
      "537434       675   0.13\n",
      "538071       652   0.12\n",
      "537638       601   0.11\n",
      "537237       597   0.11\n",
      "536876       593   0.11\n",
      "...          ...    ...\n",
      "523981         1   0.00\n",
      "523984         1   0.00\n",
      "523985         1   0.00\n",
      "C523988        1   0.00\n",
      "C516462        1   0.00\n",
      "\n",
      "[28816 rows x 2 columns]\n",
      "######################\n",
      "\n",
      "        StockCode  Ratio\n",
      "85123A       3516   0.67\n",
      "22423        2221   0.42\n",
      "85099B       2057   0.39\n",
      "21212        1933   0.37\n",
      "21232        1843   0.35\n",
      "...           ...    ...\n",
      "90005B          1   0.00\n",
      "90197C          1   0.00\n",
      "90080           1   0.00\n",
      "20904           1   0.00\n",
      "21120           1   0.00\n",
      "\n",
      "[4632 rows x 2 columns]\n",
      "######################\n",
      "\n",
      "                                     Description  Ratio\n",
      "WHITE HANGING HEART T-LIGHT HOLDER          3549   0.68\n",
      "REGENCY CAKESTAND 3 TIER                    2212   0.42\n",
      "STRAWBERRY CERAMIC TRINKET BOX              1843   0.35\n",
      "PACK OF 72 RETRO SPOT CAKE CASES            1466   0.28\n",
      "ASSORTED COLOUR BIRD ORNAMENT               1457   0.28\n",
      "...                                          ...    ...\n",
      "stock credited from royal yacht inc            1   0.00\n",
      "VINTAGE METAL CAKE STAND CREAM                 1   0.00\n",
      "BLUE BAROQUE FLOCK CANDLE HOLDER               1   0.00\n",
      "S/4 HEART CRYSTAL FRIDGE MAGNETS               1   0.00\n",
      "dotcom email                                   1   0.00\n",
      "\n",
      "[4681 rows x 2 columns]\n",
      "######################\n",
      "\n",
      "                      Country  Ratio\n",
      "United Kingdom         485852  92.46\n",
      "EIRE                     9670   1.84\n",
      "Germany                  8129   1.55\n",
      "France                   5772   1.10\n",
      "Netherlands              2769   0.53\n",
      "Spain                    1278   0.24\n",
      "Switzerland              1187   0.23\n",
      "Portugal                 1101   0.21\n",
      "Belgium                  1054   0.20\n",
      "Channel Islands           906   0.17\n",
      "Sweden                    902   0.17\n",
      "Italy                     731   0.14\n",
      "Australia                 654   0.12\n",
      "Cyprus                    554   0.11\n",
      "Austria                   537   0.10\n",
      "Greece                    517   0.10\n",
      "United Arab Emirates      432   0.08\n",
      "Denmark                   428   0.08\n",
      "Norway                    369   0.07\n",
      "Finland                   354   0.07\n",
      "Unspecified               310   0.06\n",
      "USA                       244   0.05\n",
      "Japan                     224   0.04\n",
      "Poland                    194   0.04\n",
      "Malta                     172   0.03\n",
      "Lithuania                 154   0.03\n",
      "Singapore                 117   0.02\n",
      "RSA                       111   0.02\n",
      "Bahrain                   107   0.02\n",
      "Canada                     77   0.01\n",
      "Hong Kong                  76   0.01\n",
      "Thailand                   76   0.01\n",
      "Israel                     74   0.01\n",
      "Iceland                    71   0.01\n",
      "Korea                      63   0.01\n",
      "Brazil                     62   0.01\n",
      "West Indies                54   0.01\n",
      "Bermuda                    34   0.01\n",
      "Nigeria                    32   0.01\n",
      "Lebanon                    13   0.00\n",
      "######################\n",
      "\n"
     ]
    }
   ],
   "source": [
    "for col_name in cat_but_car:\n",
    "    cat_summary(df,col_name)"
   ]
  },
  {
   "cell_type": "markdown",
   "metadata": {},
   "source": [
    "# 3. Analysis of Numerical Variables"
   ]
  },
  {
   "cell_type": "code",
   "execution_count": 196,
   "metadata": {},
   "outputs": [],
   "source": [
    "def num_summary(dataframe, numerical_col, plot=False,bins=10):\n",
    "\n",
    "    quantiles = [0.05, 0.10, 0.20, 0.30, 0.40, 0.50, 0.60, 0.70, 0.80, 0.90, 0.95, 0.99]\n",
    "\n",
    "    print(dataframe[numerical_col].describe(quantiles).T)\n",
    "    print(f\"\\n##### Plot #####\\n\")\n",
    "\n",
    "    if plot:\n",
    "        dataframe[numerical_col].hist(bins=bins)\n",
    "        plt.xlabel(numerical_col)\n",
    "        plt.title(numerical_col)\n",
    "        plt.show()"
   ]
  },
  {
   "cell_type": "code",
   "execution_count": 197,
   "metadata": {},
   "outputs": [
    {
     "name": "stdout",
     "output_type": "stream",
     "text": [
      "count   525461.00\n",
      "mean        10.34\n",
      "std        107.42\n",
      "min      -9600.00\n",
      "5%           1.00\n",
      "10%          1.00\n",
      "20%          1.00\n",
      "30%          1.00\n",
      "40%          2.00\n",
      "50%          3.00\n",
      "60%          5.00\n",
      "70%          8.00\n",
      "80%         12.00\n",
      "90%         24.00\n",
      "95%         30.00\n",
      "99%        120.00\n",
      "max      19152.00\n",
      "Name: Quantity, dtype: float64\n",
      "\n",
      "##### Plot #####\n",
      "\n"
     ]
    },
    {
     "data": {
      "image/png": "[encoded data removed]",
      "text/plain": [
       "<Figure size 432x288 with 1 Axes>"
      ]
     },
     "metadata": {
      "needs_background": "light"
     },
     "output_type": "display_data"
    },
    {
     "name": "stdout",
     "output_type": "stream",
     "text": [
      "count                  525461\n",
      "unique                  25296\n",
      "top       2010-12-06 16:57:00\n",
      "freq                      675\n",
      "first     2009-12-01 07:45:00\n",
      "last      2010-12-09 20:01:00\n",
      "Name: InvoiceDate, dtype: object\n",
      "\n",
      "##### Plot #####\n",
      "\n"
     ]
    },
    {
     "data": {
      "image/png": "[encoded data removed]",
      "text/plain": [
       "<Figure size 432x288 with 1 Axes>"
      ]
     },
     "metadata": {
      "needs_background": "light"
     },
     "output_type": "display_data"
    },
    {
     "name": "stdout",
     "output_type": "stream",
     "text": [
      "count   525461.00\n",
      "mean         4.69\n",
      "std        146.13\n",
      "min     -53594.36\n",
      "5%           0.42\n",
      "10%          0.65\n",
      "20%          1.25\n",
      "30%          1.28\n",
      "40%          1.66\n",
      "50%          2.10\n",
      "60%          2.95\n",
      "70%          3.75\n",
      "80%          4.95\n",
      "90%          7.95\n",
      "95%         10.17\n",
      "99%         19.95\n",
      "max      25111.09\n",
      "Name: Price, dtype: float64\n",
      "\n",
      "##### Plot #####\n",
      "\n"
     ]
    },
    {
     "data": {
      "image/png": "[encoded data removed]",
      "text/plain": [
       "<Figure size 432x288 with 1 Axes>"
      ]
     },
     "metadata": {
      "needs_background": "light"
     },
     "output_type": "display_data"
    },
    {
     "name": "stdout",
     "output_type": "stream",
     "text": [
      "count   417534.00\n",
      "mean     15360.65\n",
      "std       1680.81\n",
      "min      12346.00\n",
      "5%       12725.00\n",
      "10%      13042.00\n",
      "20%      13624.00\n",
      "30%      14256.00\n",
      "40%      14735.00\n",
      "50%      15311.00\n",
      "60%      15959.00\n",
      "70%      16549.00\n",
      "80%      17133.00\n",
      "90%      17706.00\n",
      "95%      17913.00\n",
      "99%      18196.00\n",
      "max      18287.00\n",
      "Name: Customer ID, dtype: float64\n",
      "\n",
      "##### Plot #####\n",
      "\n"
     ]
    },
    {
     "data": {
      "image/png": "[encoded data removed]",
      "text/plain": [
       "<Figure size 432x288 with 1 Axes>"
      ]
     },
     "metadata": {
      "needs_background": "light"
     },
     "output_type": "display_data"
    }
   ],
   "source": [
    "for col in num_cols:\n",
    "    num_summary(df, col, plot=True)"
   ]
  },
  {
   "cell_type": "markdown",
   "metadata": {},
   "source": [
    "# 4. Analysis of Correlation"
   ]
  },
  {
   "cell_type": "code",
   "execution_count": 198,
   "metadata": {},
   "outputs": [],
   "source": [
    "def high_correlated_cols(dataframe, plot=False, corr_th=0.90):\n",
    "    corr = dataframe.corr()\n",
    "    cor_matrix = corr.abs()\n",
    "    upper_triangle_matrix = cor_matrix.where(np.triu(np.ones(cor_matrix.shape), k=1).astype(np.bool))\n",
    "    drop_list = [col for col in upper_triangle_matrix.columns if any(upper_triangle_matrix[col] > corr_th)]\n",
    "    if plot:\n",
    "        import seaborn as sns\n",
    "        import matplotlib.pyplot as plt\n",
    "       \n",
    "        cmap = sns.diverging_palette(220, 20, as_cmap=True)\n",
    "        sns.heatmap(corr, cmap=cmap, center=0, annot=True, fmt=\".2f\")\n",
    "        plt.show()\n",
    "    return drop_list"
   ]
  },
  {
   "cell_type": "code",
   "execution_count": 199,
   "metadata": {},
   "outputs": [
    {
     "data": {
      "image/png": "[encoded data removed]",
      "text/plain": [
       "<Figure size 432x288 with 2 Axes>"
      ]
     },
     "metadata": {
      "needs_background": "light"
     },
     "output_type": "display_data"
    },
    {
     "data": {
      "text/plain": [
       "[]"
      ]
     },
     "execution_count": 199,
     "metadata": {},
     "output_type": "execute_result"
    }
   ],
   "source": [
    "high_correlated_cols(df, plot=True)"
   ]
  },
  {
   "cell_type": "markdown",
   "metadata": {},
   "source": [
    "# DATA PREPROCESSING\n",
    "\n",
    "1. Missing Values (Eksik Değerler) and Feature Extraction (Özellik Çıkarımı) \n",
    "2. Outliers (Aykırı Değerler)\n",
    "3. LOG TRANSFORMATION\n",
    "4. Feature Scaling (Özellik Ölçeklendirme)\n"
   ]
  },
  {
   "cell_type": "markdown",
   "metadata": {},
   "source": [
    "# 1. Missing Values and Feature Extraction"
   ]
  },
  {
   "cell_type": "code",
   "execution_count": 200,
   "metadata": {},
   "outputs": [
    {
     "data": {
      "text/plain": [
       "Index(['Invoice', 'StockCode', 'Description', 'Quantity', 'InvoiceDate', 'Price', 'Customer ID', 'Country'], dtype='object')"
      ]
     },
     "execution_count": 200,
     "metadata": {},
     "output_type": "execute_result"
    }
   ],
   "source": [
    "df.columns"
   ]
  },
  {
   "cell_type": "code",
   "execution_count": 201,
   "metadata": {},
   "outputs": [
    {
     "data": {
      "text/plain": [
       "['POST', 'BANK CHARGES', 'TEST001', 'TEST002', 'PADS', 'ADJUST', 'ADJUST2']"
      ]
     },
     "execution_count": 201,
     "metadata": {},
     "output_type": "execute_result"
    }
   ],
   "source": [
    "df = df[~df[\"Invoice\"].str.contains (\"C\", na=False)]\n",
    "df = df[(df['Quantity'] > 0)]\n",
    "df.dropna (inplace=True)\n",
    "df.describe ([0.01, 0.1, 0.25, 0.5, 0.75, 0.90, 0.99])\n",
    "df[df[\"Price\"] == 0][\"StockCode\"].unique ()\n",
    "df = df[df[\"StockCode\"] != \"M\"]\n",
    "invalid_codes = df[df[\"StockCode\"].astype (str).str.contains (r\"[a-zA-Z]{3,}\")][\"StockCode\"].unique ().tolist ()\n",
    "invalid_codes\n"
   ]
  },
  {
   "cell_type": "code",
   "execution_count": 202,
   "metadata": {},
   "outputs": [
    {
     "data": {
      "text/html": [
       "<div>\n",
       "<style scoped>\n",
       "    .dataframe tbody tr th:only-of-type {\n",
       "        vertical-align: middle;\n",
       "    }\n",
       "\n",
       "    .dataframe tbody tr th {\n",
       "        vertical-align: top;\n",
       "    }\n",
       "\n",
       "    .dataframe thead th {\n",
       "        text-align: right;\n",
       "    }\n",
       "</style>\n",
       "<table border=\"1\" class=\"dataframe\">\n",
       "  <thead>\n",
       "    <tr style=\"text-align: right;\">\n",
       "      <th></th>\n",
       "      <th>Invoice</th>\n",
       "      <th>Quantity</th>\n",
       "      <th>Price</th>\n",
       "      <th>Customer ID</th>\n",
       "    </tr>\n",
       "    <tr>\n",
       "      <th>StockCode</th>\n",
       "      <th></th>\n",
       "      <th></th>\n",
       "      <th></th>\n",
       "      <th></th>\n",
       "    </tr>\n",
       "  </thead>\n",
       "  <tbody>\n",
       "    <tr>\n",
       "      <th>ADJUST</th>\n",
       "      <td>32</td>\n",
       "      <td>32</td>\n",
       "      <td>3538.52</td>\n",
       "      <td>25</td>\n",
       "    </tr>\n",
       "    <tr>\n",
       "      <th>ADJUST2</th>\n",
       "      <td>3</td>\n",
       "      <td>3</td>\n",
       "      <td>731.05</td>\n",
       "      <td>3</td>\n",
       "    </tr>\n",
       "    <tr>\n",
       "      <th>BANK CHARGES</th>\n",
       "      <td>20</td>\n",
       "      <td>20</td>\n",
       "      <td>300.00</td>\n",
       "      <td>12</td>\n",
       "    </tr>\n",
       "    <tr>\n",
       "      <th>PADS</th>\n",
       "      <td>14</td>\n",
       "      <td>14</td>\n",
       "      <td>0.01</td>\n",
       "      <td>12</td>\n",
       "    </tr>\n",
       "    <tr>\n",
       "      <th>POST</th>\n",
       "      <td>738</td>\n",
       "      <td>2212</td>\n",
       "      <td>19964.83</td>\n",
       "      <td>230</td>\n",
       "    </tr>\n",
       "    <tr>\n",
       "      <th>TEST001</th>\n",
       "      <td>11</td>\n",
       "      <td>60</td>\n",
       "      <td>40.50</td>\n",
       "      <td>4</td>\n",
       "    </tr>\n",
       "    <tr>\n",
       "      <th>TEST002</th>\n",
       "      <td>1</td>\n",
       "      <td>1</td>\n",
       "      <td>1.00</td>\n",
       "      <td>1</td>\n",
       "    </tr>\n",
       "  </tbody>\n",
       "</table>\n",
       "</div>"
      ],
      "text/plain": [
       "              Invoice  Quantity    Price  Customer ID\n",
       "StockCode                                            \n",
       "ADJUST             32        32  3538.52           25\n",
       "ADJUST2             3         3   731.05            3\n",
       "BANK CHARGES       20        20   300.00           12\n",
       "PADS               14        14     0.01           12\n",
       "POST              738      2212 19964.83          230\n",
       "TEST001            11        60    40.50            4\n",
       "TEST002             1         1     1.00            1"
      ]
     },
     "execution_count": 202,
     "metadata": {},
     "output_type": "execute_result"
    }
   ],
   "source": [
    "df[df[\"StockCode\"].isin (invalid_codes)].groupby ([\"StockCode\"]).agg ({\"Invoice\": \"nunique\",\n",
    "                                                                       \"Quantity\": \"sum\",\n",
    "                                                                       \"Price\": \"sum\",\n",
    "                                                                       \"Customer ID\": \"nunique\"})"
   ]
  },
  {
   "cell_type": "code",
   "execution_count": 203,
   "metadata": {},
   "outputs": [
    {
     "name": "stdout",
     "output_type": "stream",
     "text": [
      "##################### Shape #####################\n",
      "\n",
      "(406450, 8)\n",
      "\n",
      "##################### Types #####################\n",
      "\n",
      "Invoice                object\n",
      "StockCode              object\n",
      "Description            object\n",
      "Quantity                int64\n",
      "InvoiceDate    datetime64[ns]\n",
      "Price                 float64\n",
      "Customer ID           float64\n",
      "Country                object\n",
      "dtype: object\n",
      "\n",
      "##################### Head #####################\n",
      "\n",
      "  Invoice StockCode                          Description  Quantity         InvoiceDate  Price  Customer ID         Country\n",
      "0  489434     85048  15CM CHRISTMAS GLASS BALL 20 LIGHTS        12 2009-12-01 07:45:00   6.95     13085.00  United Kingdom\n",
      "1  489434    79323P                   PINK CHERRY LIGHTS        12 2009-12-01 07:45:00   6.75     13085.00  United Kingdom\n",
      "2  489434    79323W                  WHITE CHERRY LIGHTS        12 2009-12-01 07:45:00   6.75     13085.00  United Kingdom\n",
      "3  489434     22041         RECORD FRAME 7\" SINGLE SIZE         48 2009-12-01 07:45:00   2.10     13085.00  United Kingdom\n",
      "4  489434     21232       STRAWBERRY CERAMIC TRINKET BOX        24 2009-12-01 07:45:00   1.25     13085.00  United Kingdom\n",
      "\n",
      "##################### Tail #####################\n",
      "\n",
      "       Invoice StockCode                         Description  Quantity         InvoiceDate  Price  Customer ID         Country\n",
      "406445  538171     22271                FELTCRAFT DOLL ROSIE         2 2010-12-09 20:01:00   2.95     17530.00  United Kingdom\n",
      "406446  538171     22750        FELTCRAFT PRINCESS LOLA DOLL         1 2010-12-09 20:01:00   3.75     17530.00  United Kingdom\n",
      "406447  538171     22751      FELTCRAFT PRINCESS OLIVIA DOLL         1 2010-12-09 20:01:00   3.75     17530.00  United Kingdom\n",
      "406448  538171     20970  PINK FLORAL FELTCRAFT SHOULDER BAG         2 2010-12-09 20:01:00   3.75     17530.00  United Kingdom\n",
      "406449  538171     21931              JUMBO STORAGE BAG SUKI         2 2010-12-09 20:01:00   1.95     17530.00  United Kingdom\n",
      "\n",
      "##################### NA #####################\n",
      "\n",
      "Invoice        0\n",
      "StockCode      0\n",
      "Description    0\n",
      "Quantity       0\n",
      "InvoiceDate    0\n",
      "Price          0\n",
      "Customer ID    0\n",
      "Country        0\n",
      "dtype: int64\n",
      "\n",
      "##################### Quantiles #####################\n",
      "\n",
      "                0.00     0.05     0.50     0.95     0.99     1.00\n",
      "Quantity        1.00     1.00     5.00    36.00   144.00 19152.00\n",
      "Price           0.00     0.42     1.95     8.50    12.75   295.00\n",
      "Customer ID 12346.00 12747.00 15325.00 17913.00 18196.00 18287.00\n"
     ]
    }
   ],
   "source": [
    "df = df[~df[\"StockCode\"].isin (invalid_codes)].reset_index (drop=True)\n",
    "check_df(df)"
   ]
  },
  {
   "cell_type": "code",
   "execution_count": 204,
   "metadata": {},
   "outputs": [],
   "source": [
    "df[\"TotalPrice\"] = df[\"Quantity\"] * df[\"Price\"]\n",
    "df.describe ([0.01, 0.1, 0.25, 0.5, 0.75, 0.90, 0.99])\n",
    "max_invoice_date = df[\"InvoiceDate\"].max ()\n",
    "today_date = (max_invoice_date + dt.timedelta (days=2))"
   ]
  },
  {
   "cell_type": "code",
   "execution_count": 205,
   "metadata": {},
   "outputs": [],
   "source": [
    "rfm = df.groupby (\"Customer ID\").agg ({\"InvoiceDate\": lambda date: (today_date - date.max ()).days,\n",
    "                                       \"Invoice\": \"nunique\",\n",
    "                                       \"TotalPrice\": \"sum\"})"
   ]
  },
  {
   "cell_type": "code",
   "execution_count": 206,
   "metadata": {},
   "outputs": [
    {
     "data": {
      "text/html": [
       "<div>\n",
       "<style scoped>\n",
       "    .dataframe tbody tr th:only-of-type {\n",
       "        vertical-align: middle;\n",
       "    }\n",
       "\n",
       "    .dataframe tbody tr th {\n",
       "        vertical-align: top;\n",
       "    }\n",
       "\n",
       "    .dataframe thead th {\n",
       "        text-align: right;\n",
       "    }\n",
       "</style>\n",
       "<table border=\"1\" class=\"dataframe\">\n",
       "  <thead>\n",
       "    <tr style=\"text-align: right;\">\n",
       "      <th></th>\n",
       "      <th>InvoiceDate</th>\n",
       "      <th>Invoice</th>\n",
       "      <th>TotalPrice</th>\n",
       "    </tr>\n",
       "    <tr>\n",
       "      <th>Customer ID</th>\n",
       "      <th></th>\n",
       "      <th></th>\n",
       "      <th></th>\n",
       "    </tr>\n",
       "  </thead>\n",
       "  <tbody>\n",
       "    <tr>\n",
       "      <th>12346.00</th>\n",
       "      <td>166</td>\n",
       "      <td>2</td>\n",
       "      <td>169.36</td>\n",
       "    </tr>\n",
       "    <tr>\n",
       "      <th>12347.00</th>\n",
       "      <td>4</td>\n",
       "      <td>2</td>\n",
       "      <td>1323.32</td>\n",
       "    </tr>\n",
       "    <tr>\n",
       "      <th>12348.00</th>\n",
       "      <td>75</td>\n",
       "      <td>1</td>\n",
       "      <td>221.16</td>\n",
       "    </tr>\n",
       "    <tr>\n",
       "      <th>12349.00</th>\n",
       "      <td>44</td>\n",
       "      <td>2</td>\n",
       "      <td>2221.14</td>\n",
       "    </tr>\n",
       "    <tr>\n",
       "      <th>12351.00</th>\n",
       "      <td>12</td>\n",
       "      <td>1</td>\n",
       "      <td>300.93</td>\n",
       "    </tr>\n",
       "  </tbody>\n",
       "</table>\n",
       "</div>"
      ],
      "text/plain": [
       "             InvoiceDate  Invoice  TotalPrice\n",
       "Customer ID                                  \n",
       "12346.00             166        2      169.36\n",
       "12347.00               4        2     1323.32\n",
       "12348.00              75        1      221.16\n",
       "12349.00              44        2     2221.14\n",
       "12351.00              12        1      300.93"
      ]
     },
     "execution_count": 206,
     "metadata": {},
     "output_type": "execute_result"
    }
   ],
   "source": [
    "rfm.head()"
   ]
  },
  {
   "cell_type": "code",
   "execution_count": 207,
   "metadata": {},
   "outputs": [],
   "source": [
    "rfm.columns = [\"Recency\", \"Frequency\", \"Monetary\"]"
   ]
  },
  {
   "cell_type": "markdown",
   "metadata": {},
   "source": [
    "# 2. Outliers"
   ]
  },
  {
   "cell_type": "code",
   "execution_count": 208,
   "metadata": {},
   "outputs": [],
   "source": [
    "def outlier_thresholds(dataframe, col_name, q1=0.25, q3=0.75):\n",
    "    quartile1 = dataframe[col_name].quantile(q1)\n",
    "    quartile3 = dataframe[col_name].quantile(q3)\n",
    "    interquantile_range = quartile3 - quartile1\n",
    "    up_limit = quartile3 + 1.5 * interquantile_range\n",
    "    low_limit = quartile1 - 1.5 * interquantile_range\n",
    "    return low_limit, up_limit\n",
    "\n",
    "def check_outlier(dataframe, col_name):\n",
    "    low_limit, up_limit = outlier_thresholds(dataframe, col_name)\n",
    "    if dataframe[(dataframe[col_name] > up_limit) | (dataframe[col_name] < low_limit)].any(axis=None):\n",
    "        return True\n",
    "    else:\n",
    "        return False\n",
    "\n",
    "def replace_with_thresholds(dataframe, variable):\n",
    "    low_limit, up_limit = outlier_thresholds(dataframe, variable)\n",
    "    dataframe.loc[(dataframe[variable] < low_limit), variable] = low_limit\n",
    "    dataframe.loc[(dataframe[variable] > up_limit), variable] = up_limit"
   ]
  },
  {
   "cell_type": "code",
   "execution_count": 209,
   "metadata": {},
   "outputs": [
    {
     "name": "stdout",
     "output_type": "stream",
     "text": [
      "Recency True\n",
      "Frequency True\n",
      "Monetary True\n"
     ]
    },
    {
     "data": {
      "text/html": [
       "<div>\n",
       "<style scoped>\n",
       "    .dataframe tbody tr th:only-of-type {\n",
       "        vertical-align: middle;\n",
       "    }\n",
       "\n",
       "    .dataframe tbody tr th {\n",
       "        vertical-align: top;\n",
       "    }\n",
       "\n",
       "    .dataframe thead th {\n",
       "        text-align: right;\n",
       "    }\n",
       "</style>\n",
       "<table border=\"1\" class=\"dataframe\">\n",
       "  <thead>\n",
       "    <tr style=\"text-align: right;\">\n",
       "      <th></th>\n",
       "      <th>Recency</th>\n",
       "      <th>Frequency</th>\n",
       "      <th>Monetary</th>\n",
       "    </tr>\n",
       "  </thead>\n",
       "  <tbody>\n",
       "    <tr>\n",
       "      <th>count</th>\n",
       "      <td>4286.00</td>\n",
       "      <td>4286.00</td>\n",
       "      <td>4286.00</td>\n",
       "    </tr>\n",
       "    <tr>\n",
       "      <th>mean</th>\n",
       "      <td>90.01</td>\n",
       "      <td>3.59</td>\n",
       "      <td>1196.06</td>\n",
       "    </tr>\n",
       "    <tr>\n",
       "      <th>std</th>\n",
       "      <td>92.30</td>\n",
       "      <td>3.07</td>\n",
       "      <td>1176.34</td>\n",
       "    </tr>\n",
       "    <tr>\n",
       "      <th>min</th>\n",
       "      <td>2.00</td>\n",
       "      <td>1.00</td>\n",
       "      <td>1.55</td>\n",
       "    </tr>\n",
       "    <tr>\n",
       "      <th>25%</th>\n",
       "      <td>19.00</td>\n",
       "      <td>1.00</td>\n",
       "      <td>307.66</td>\n",
       "    </tr>\n",
       "    <tr>\n",
       "      <th>50%</th>\n",
       "      <td>53.00</td>\n",
       "      <td>2.00</td>\n",
       "      <td>702.25</td>\n",
       "    </tr>\n",
       "    <tr>\n",
       "      <th>75%</th>\n",
       "      <td>136.75</td>\n",
       "      <td>5.00</td>\n",
       "      <td>1703.98</td>\n",
       "    </tr>\n",
       "    <tr>\n",
       "      <th>max</th>\n",
       "      <td>313.38</td>\n",
       "      <td>11.00</td>\n",
       "      <td>3798.48</td>\n",
       "    </tr>\n",
       "  </tbody>\n",
       "</table>\n",
       "</div>"
      ],
      "text/plain": [
       "       Recency  Frequency  Monetary\n",
       "count  4286.00    4286.00   4286.00\n",
       "mean     90.01       3.59   1196.06\n",
       "std      92.30       3.07   1176.34\n",
       "min       2.00       1.00      1.55\n",
       "25%      19.00       1.00    307.66\n",
       "50%      53.00       2.00    702.25\n",
       "75%     136.75       5.00   1703.98\n",
       "max     313.38      11.00   3798.48"
      ]
     },
     "execution_count": 209,
     "metadata": {},
     "output_type": "execute_result"
    }
   ],
   "source": [
    "rfm = rfm[(rfm[\"Monetary\"]) > 0 & (rfm[\"Frequency\"] > 0)]\n",
    "rfm.describe ([0.01, 0.1, 0.25, 0.5, 0.75, 0.90, 0.99])\n",
    "for col in rfm.columns:\n",
    "    print (col, check_outlier (rfm, col))\n",
    "for col in rfm.columns:\n",
    "    replace_with_thresholds (rfm, col)\n",
    "rfm.describe ()"
   ]
  },
  {
   "cell_type": "code",
   "execution_count": 210,
   "metadata": {},
   "outputs": [
    {
     "data": {
      "image/png": "[encoded data removed]",
      "text/plain": [
       "<Figure size 432x288 with 1 Axes>"
      ]
     },
     "metadata": {
      "needs_background": "light"
     },
     "output_type": "display_data"
    }
   ],
   "source": [
    "rfm[\"Recency\"].hist (bins=20)\n",
    "plt.title (\"Recency\")\n",
    "plt.show ()"
   ]
  },
  {
   "cell_type": "code",
   "execution_count": 211,
   "metadata": {},
   "outputs": [
    {
     "data": {
      "image/png": "[encoded data removed]",
      "text/plain": [
       "<Figure size 432x288 with 1 Axes>"
      ]
     },
     "metadata": {
      "needs_background": "light"
     },
     "output_type": "display_data"
    }
   ],
   "source": [
    "rfm[\"Frequency\"].hist (bins=20)\n",
    "plt.title (\"Frequency\")\n",
    "plt.show ()"
   ]
  },
  {
   "cell_type": "markdown",
   "metadata": {},
   "source": [
    "# 3. LOG TRANSFORMATION"
   ]
  },
  {
   "cell_type": "code",
   "execution_count": 212,
   "metadata": {},
   "outputs": [
    {
     "data": {
      "text/html": [
       "<div>\n",
       "<style scoped>\n",
       "    .dataframe tbody tr th:only-of-type {\n",
       "        vertical-align: middle;\n",
       "    }\n",
       "\n",
       "    .dataframe tbody tr th {\n",
       "        vertical-align: top;\n",
       "    }\n",
       "\n",
       "    .dataframe thead th {\n",
       "        text-align: right;\n",
       "    }\n",
       "</style>\n",
       "<table border=\"1\" class=\"dataframe\">\n",
       "  <thead>\n",
       "    <tr style=\"text-align: right;\">\n",
       "      <th></th>\n",
       "      <th>Recency</th>\n",
       "      <th>Frequency</th>\n",
       "      <th>Monetary</th>\n",
       "      <th>LOG_Recency</th>\n",
       "      <th>LOG_Frequency</th>\n",
       "    </tr>\n",
       "    <tr>\n",
       "      <th>Customer ID</th>\n",
       "      <th></th>\n",
       "      <th></th>\n",
       "      <th></th>\n",
       "      <th></th>\n",
       "      <th></th>\n",
       "    </tr>\n",
       "  </thead>\n",
       "  <tbody>\n",
       "    <tr>\n",
       "      <th>12346.00</th>\n",
       "      <td>166.00</td>\n",
       "      <td>2</td>\n",
       "      <td>169.36</td>\n",
       "      <td>5.12</td>\n",
       "      <td>1.10</td>\n",
       "    </tr>\n",
       "    <tr>\n",
       "      <th>12347.00</th>\n",
       "      <td>4.00</td>\n",
       "      <td>2</td>\n",
       "      <td>1323.32</td>\n",
       "      <td>1.61</td>\n",
       "      <td>1.10</td>\n",
       "    </tr>\n",
       "    <tr>\n",
       "      <th>12348.00</th>\n",
       "      <td>75.00</td>\n",
       "      <td>1</td>\n",
       "      <td>221.16</td>\n",
       "      <td>4.33</td>\n",
       "      <td>0.69</td>\n",
       "    </tr>\n",
       "    <tr>\n",
       "      <th>12349.00</th>\n",
       "      <td>44.00</td>\n",
       "      <td>2</td>\n",
       "      <td>2221.14</td>\n",
       "      <td>3.81</td>\n",
       "      <td>1.10</td>\n",
       "    </tr>\n",
       "    <tr>\n",
       "      <th>12351.00</th>\n",
       "      <td>12.00</td>\n",
       "      <td>1</td>\n",
       "      <td>300.93</td>\n",
       "      <td>2.56</td>\n",
       "      <td>0.69</td>\n",
       "    </tr>\n",
       "  </tbody>\n",
       "</table>\n",
       "</div>"
      ],
      "text/plain": [
       "             Recency  Frequency  Monetary  LOG_Recency  LOG_Frequency\n",
       "Customer ID                                                          \n",
       "12346.00      166.00          2    169.36         5.12           1.10\n",
       "12347.00        4.00          2   1323.32         1.61           1.10\n",
       "12348.00       75.00          1    221.16         4.33           0.69\n",
       "12349.00       44.00          2   2221.14         3.81           1.10\n",
       "12351.00       12.00          1    300.93         2.56           0.69"
      ]
     },
     "execution_count": 212,
     "metadata": {},
     "output_type": "execute_result"
    }
   ],
   "source": [
    "for col in [\"Recency\", \"Frequency\"]:\n",
    "    rfm[f\"LOG_{col}\"] = np.log1p (rfm[col])\n",
    "rfm.head ()"
   ]
  },
  {
   "cell_type": "markdown",
   "metadata": {},
   "source": [
    "# 4. Feature Scaling"
   ]
  },
  {
   "cell_type": "code",
   "execution_count": 213,
   "metadata": {},
   "outputs": [
    {
     "data": {
      "text/html": [
       "<div>\n",
       "<style scoped>\n",
       "    .dataframe tbody tr th:only-of-type {\n",
       "        vertical-align: middle;\n",
       "    }\n",
       "\n",
       "    .dataframe tbody tr th {\n",
       "        vertical-align: top;\n",
       "    }\n",
       "\n",
       "    .dataframe thead th {\n",
       "        text-align: right;\n",
       "    }\n",
       "</style>\n",
       "<table border=\"1\" class=\"dataframe\">\n",
       "  <thead>\n",
       "    <tr style=\"text-align: right;\">\n",
       "      <th></th>\n",
       "      <th>LOG_Recency</th>\n",
       "      <th>LOG_Frequency</th>\n",
       "    </tr>\n",
       "    <tr>\n",
       "      <th>Customer ID</th>\n",
       "      <th></th>\n",
       "      <th></th>\n",
       "    </tr>\n",
       "  </thead>\n",
       "  <tbody>\n",
       "    <tr>\n",
       "      <th>12346.00</th>\n",
       "      <td>1.00</td>\n",
       "      <td>-0.39</td>\n",
       "    </tr>\n",
       "    <tr>\n",
       "      <th>12347.00</th>\n",
       "      <td>-1.86</td>\n",
       "      <td>-0.39</td>\n",
       "    </tr>\n",
       "    <tr>\n",
       "      <th>12348.00</th>\n",
       "      <td>0.36</td>\n",
       "      <td>-1.07</td>\n",
       "    </tr>\n",
       "    <tr>\n",
       "      <th>12349.00</th>\n",
       "      <td>-0.07</td>\n",
       "      <td>-0.39</td>\n",
       "    </tr>\n",
       "    <tr>\n",
       "      <th>12351.00</th>\n",
       "      <td>-1.08</td>\n",
       "      <td>-1.07</td>\n",
       "    </tr>\n",
       "    <tr>\n",
       "      <th>...</th>\n",
       "      <td>...</td>\n",
       "      <td>...</td>\n",
       "    </tr>\n",
       "    <tr>\n",
       "      <th>18283.00</th>\n",
       "      <td>-0.73</td>\n",
       "      <td>1.02</td>\n",
       "    </tr>\n",
       "    <tr>\n",
       "      <th>18284.00</th>\n",
       "      <td>0.28</td>\n",
       "      <td>-1.07</td>\n",
       "    </tr>\n",
       "    <tr>\n",
       "      <th>18285.00</th>\n",
       "      <td>1.47</td>\n",
       "      <td>-1.07</td>\n",
       "    </tr>\n",
       "    <tr>\n",
       "      <th>18286.00</th>\n",
       "      <td>0.69</td>\n",
       "      <td>-0.39</td>\n",
       "    </tr>\n",
       "    <tr>\n",
       "      <th>18287.00</th>\n",
       "      <td>-0.73</td>\n",
       "      <td>0.46</td>\n",
       "    </tr>\n",
       "  </tbody>\n",
       "</table>\n",
       "<p>4286 rows × 2 columns</p>\n",
       "</div>"
      ],
      "text/plain": [
       "             LOG_Recency  LOG_Frequency\n",
       "Customer ID                            \n",
       "12346.00            1.00          -0.39\n",
       "12347.00           -1.86          -0.39\n",
       "12348.00            0.36          -1.07\n",
       "12349.00           -0.07          -0.39\n",
       "12351.00           -1.08          -1.07\n",
       "...                  ...            ...\n",
       "18283.00           -0.73           1.02\n",
       "18284.00            0.28          -1.07\n",
       "18285.00            1.47          -1.07\n",
       "18286.00            0.69          -0.39\n",
       "18287.00           -0.73           0.46\n",
       "\n",
       "[4286 rows x 2 columns]"
      ]
     },
     "execution_count": 213,
     "metadata": {},
     "output_type": "execute_result"
    }
   ],
   "source": [
    "sc = StandardScaler ()\n",
    "sc.fit (rfm[[\"LOG_Recency\", \"LOG_Frequency\"]])\n",
    "scaled_rf = sc.transform (rfm[[\"LOG_Recency\", \"LOG_Frequency\"]])\n",
    "\n",
    "scaled_df = pd.DataFrame (index=rfm.index, columns=[\"LOG_Recency\", \"LOG_Frequency\"], data=scaled_rf)\n",
    "scaled_df"
   ]
  },
  {
   "cell_type": "markdown",
   "metadata": {},
   "source": [
    "# Modelling(KMeans)"
   ]
  },
  {
   "cell_type": "code",
   "execution_count": 214,
   "metadata": {},
   "outputs": [
    {
     "data": {
      "image/png": "[encoded data removed]",
      "text/plain": [
       "<Figure size 432x288 with 2 Axes>"
      ]
     },
     "metadata": {},
     "output_type": "display_data"
    }
   ],
   "source": [
    "# Determining Optimal Numbers of Cluster\n",
    "kmeans = KMeans ()\n",
    "elbow = KElbowVisualizer (kmeans, k=30)\n",
    "elbow.fit (scaled_df)\n",
    "elbow.show ();"
   ]
  },
  {
   "cell_type": "code",
   "execution_count": 215,
   "metadata": {},
   "outputs": [
    {
     "name": "stdout",
     "output_type": "stream",
     "text": [
      "8\n"
     ]
    }
   ],
   "source": [
    "k_ = elbow.elbow_value_\n",
    "\n",
    "print (k_)"
   ]
  },
  {
   "cell_type": "code",
   "execution_count": 216,
   "metadata": {},
   "outputs": [
    {
     "data": {
      "text/html": [
       "<div>\n",
       "<style scoped>\n",
       "    .dataframe tbody tr th:only-of-type {\n",
       "        vertical-align: middle;\n",
       "    }\n",
       "\n",
       "    .dataframe tbody tr th {\n",
       "        vertical-align: top;\n",
       "    }\n",
       "\n",
       "    .dataframe thead th {\n",
       "        text-align: right;\n",
       "    }\n",
       "</style>\n",
       "<table border=\"1\" class=\"dataframe\">\n",
       "  <thead>\n",
       "    <tr style=\"text-align: right;\">\n",
       "      <th></th>\n",
       "      <th>Recency</th>\n",
       "      <th>Frequency</th>\n",
       "      <th>Monetary</th>\n",
       "      <th>LOG_Recency</th>\n",
       "      <th>LOG_Frequency</th>\n",
       "      <th>KMeans_Segments</th>\n",
       "    </tr>\n",
       "    <tr>\n",
       "      <th>Customer ID</th>\n",
       "      <th></th>\n",
       "      <th></th>\n",
       "      <th></th>\n",
       "      <th></th>\n",
       "      <th></th>\n",
       "      <th></th>\n",
       "    </tr>\n",
       "  </thead>\n",
       "  <tbody>\n",
       "    <tr>\n",
       "      <th>12346.00</th>\n",
       "      <td>166.00</td>\n",
       "      <td>2</td>\n",
       "      <td>169.36</td>\n",
       "      <td>5.12</td>\n",
       "      <td>1.10</td>\n",
       "      <td>7</td>\n",
       "    </tr>\n",
       "    <tr>\n",
       "      <th>12347.00</th>\n",
       "      <td>4.00</td>\n",
       "      <td>2</td>\n",
       "      <td>1323.32</td>\n",
       "      <td>1.61</td>\n",
       "      <td>1.10</td>\n",
       "      <td>6</td>\n",
       "    </tr>\n",
       "    <tr>\n",
       "      <th>12348.00</th>\n",
       "      <td>75.00</td>\n",
       "      <td>1</td>\n",
       "      <td>221.16</td>\n",
       "      <td>4.33</td>\n",
       "      <td>0.69</td>\n",
       "      <td>2</td>\n",
       "    </tr>\n",
       "    <tr>\n",
       "      <th>12349.00</th>\n",
       "      <td>44.00</td>\n",
       "      <td>2</td>\n",
       "      <td>2221.14</td>\n",
       "      <td>3.81</td>\n",
       "      <td>1.10</td>\n",
       "      <td>2</td>\n",
       "    </tr>\n",
       "    <tr>\n",
       "      <th>12351.00</th>\n",
       "      <td>12.00</td>\n",
       "      <td>1</td>\n",
       "      <td>300.93</td>\n",
       "      <td>2.56</td>\n",
       "      <td>0.69</td>\n",
       "      <td>6</td>\n",
       "    </tr>\n",
       "  </tbody>\n",
       "</table>\n",
       "</div>"
      ],
      "text/plain": [
       "             Recency  Frequency  Monetary  LOG_Recency  LOG_Frequency  KMeans_Segments\n",
       "Customer ID                                                                           \n",
       "12346.00      166.00          2    169.36         5.12           1.10                7\n",
       "12347.00        4.00          2   1323.32         1.61           1.10                6\n",
       "12348.00       75.00          1    221.16         4.33           0.69                2\n",
       "12349.00       44.00          2   2221.14         3.81           1.10                2\n",
       "12351.00       12.00          1    300.93         2.56           0.69                6"
      ]
     },
     "execution_count": 216,
     "metadata": {},
     "output_type": "execute_result"
    }
   ],
   "source": [
    "k_means = KMeans (n_clusters=k_, random_state=99).fit (scaled_df)\n",
    "segments = k_means.labels_\n",
    "\n",
    "rfm[\"KMeans_Segments\"] = segments\n",
    "rfm.head ()\n"
   ]
  },
  {
   "cell_type": "code",
   "execution_count": 217,
   "metadata": {},
   "outputs": [
    {
     "data": {
      "image/png": "[encoded data removed]",
      "text/plain": [
       "<Figure size 1440x720 with 1 Axes>"
      ]
     },
     "metadata": {
      "needs_background": "light"
     },
     "output_type": "display_data"
    }
   ],
   "source": [
    "rfm.groupby (\"KMeans_Segments\").agg ({\"Recency\": [\"mean\", \"median\", \"count\"],\n",
    "                                      \"Frequency\": [\"mean\", \"median\", \"count\"],\n",
    "                                      \"Monetary\": [\"mean\", \"median\", \"count\"]})\n",
    "\n",
    "\n",
    "plt.figure (figsize=(20, 10))\n",
    "sns.boxplot (x=\"KMeans_Segments\", y=\"Monetary\", data=rfm)\n",
    "plt.show ();"
   ]
  },
  {
   "cell_type": "markdown",
   "metadata": {},
   "source": [
    "# Modelling(Hierarchical Clustering)"
   ]
  },
  {
   "cell_type": "code",
   "execution_count": 218,
   "metadata": {},
   "outputs": [
    {
     "data": {
      "image/png": "[encoded data removed]",
      "text/plain": [
       "<Figure size 720x504 with 1 Axes>"
      ]
     },
     "metadata": {
      "needs_background": "light"
     },
     "output_type": "display_data"
    }
   ],
   "source": [
    "hc_complete = linkage(scaled_df, 'complete')\n",
    "\n",
    "plt.figure (figsize=(10, 7))\n",
    "plt.title (\"Dendrograms\")\n",
    "dend = dendrogram (hc_complete,\n",
    "                   truncate_mode=\"lastp\",\n",
    "                   p=10,\n",
    "                   show_contracted=True,\n",
    "                   leaf_font_size=10)\n",
    "plt.axhline (y=1.2, color='r', linestyle='--')\n",
    "plt.show ()"
   ]
  },
  {
   "cell_type": "code",
   "execution_count": 219,
   "metadata": {},
   "outputs": [
    {
     "data": {
      "text/html": [
       "<div>\n",
       "<style scoped>\n",
       "    .dataframe tbody tr th:only-of-type {\n",
       "        vertical-align: middle;\n",
       "    }\n",
       "\n",
       "    .dataframe tbody tr th {\n",
       "        vertical-align: top;\n",
       "    }\n",
       "\n",
       "    .dataframe thead tr th {\n",
       "        text-align: left;\n",
       "    }\n",
       "\n",
       "    .dataframe thead tr:last-of-type th {\n",
       "        text-align: right;\n",
       "    }\n",
       "</style>\n",
       "<table border=\"1\" class=\"dataframe\">\n",
       "  <thead>\n",
       "    <tr>\n",
       "      <th></th>\n",
       "      <th colspan=\"3\" halign=\"left\">Recency</th>\n",
       "      <th colspan=\"3\" halign=\"left\">Frequency</th>\n",
       "      <th colspan=\"3\" halign=\"left\">Monetary</th>\n",
       "    </tr>\n",
       "    <tr>\n",
       "      <th></th>\n",
       "      <th>mean</th>\n",
       "      <th>median</th>\n",
       "      <th>count</th>\n",
       "      <th>mean</th>\n",
       "      <th>median</th>\n",
       "      <th>count</th>\n",
       "      <th>mean</th>\n",
       "      <th>median</th>\n",
       "      <th>count</th>\n",
       "    </tr>\n",
       "    <tr>\n",
       "      <th>Hierarchi_Segments</th>\n",
       "      <th></th>\n",
       "      <th></th>\n",
       "      <th></th>\n",
       "      <th></th>\n",
       "      <th></th>\n",
       "      <th></th>\n",
       "      <th></th>\n",
       "      <th></th>\n",
       "      <th></th>\n",
       "    </tr>\n",
       "  </thead>\n",
       "  <tbody>\n",
       "    <tr>\n",
       "      <th>0</th>\n",
       "      <td>114.95</td>\n",
       "      <td>86.00</td>\n",
       "      <td>1168</td>\n",
       "      <td>2.72</td>\n",
       "      <td>2.00</td>\n",
       "      <td>1168</td>\n",
       "      <td>962.48</td>\n",
       "      <td>721.25</td>\n",
       "      <td>1168</td>\n",
       "    </tr>\n",
       "    <tr>\n",
       "      <th>1</th>\n",
       "      <td>5.22</td>\n",
       "      <td>4.00</td>\n",
       "      <td>468</td>\n",
       "      <td>8.13</td>\n",
       "      <td>10.00</td>\n",
       "      <td>468</td>\n",
       "      <td>2594.66</td>\n",
       "      <td>2767.07</td>\n",
       "      <td>468</td>\n",
       "    </tr>\n",
       "    <tr>\n",
       "      <th>2</th>\n",
       "      <td>41.12</td>\n",
       "      <td>34.00</td>\n",
       "      <td>828</td>\n",
       "      <td>1.20</td>\n",
       "      <td>1.00</td>\n",
       "      <td>828</td>\n",
       "      <td>423.84</td>\n",
       "      <td>310.75</td>\n",
       "      <td>828</td>\n",
       "    </tr>\n",
       "    <tr>\n",
       "      <th>3</th>\n",
       "      <td>234.17</td>\n",
       "      <td>239.00</td>\n",
       "      <td>753</td>\n",
       "      <td>1.00</td>\n",
       "      <td>1.00</td>\n",
       "      <td>753</td>\n",
       "      <td>305.86</td>\n",
       "      <td>226.30</td>\n",
       "      <td>753</td>\n",
       "    </tr>\n",
       "    <tr>\n",
       "      <th>4</th>\n",
       "      <td>57.97</td>\n",
       "      <td>50.00</td>\n",
       "      <td>459</td>\n",
       "      <td>8.22</td>\n",
       "      <td>8.00</td>\n",
       "      <td>459</td>\n",
       "      <td>2695.60</td>\n",
       "      <td>2841.07</td>\n",
       "      <td>459</td>\n",
       "    </tr>\n",
       "    <tr>\n",
       "      <th>5</th>\n",
       "      <td>19.86</td>\n",
       "      <td>18.00</td>\n",
       "      <td>610</td>\n",
       "      <td>4.75</td>\n",
       "      <td>5.00</td>\n",
       "      <td>610</td>\n",
       "      <td>1589.05</td>\n",
       "      <td>1298.22</td>\n",
       "      <td>610</td>\n",
       "    </tr>\n",
       "  </tbody>\n",
       "</table>\n",
       "</div>"
      ],
      "text/plain": [
       "                   Recency              Frequency              Monetary              \n",
       "                      mean median count      mean median count     mean  median count\n",
       "Hierarchi_Segments                                                                   \n",
       "0                   114.95  86.00  1168      2.72   2.00  1168   962.48  721.25  1168\n",
       "1                     5.22   4.00   468      8.13  10.00   468  2594.66 2767.07   468\n",
       "2                    41.12  34.00   828      1.20   1.00   828   423.84  310.75   828\n",
       "3                   234.17 239.00   753      1.00   1.00   753   305.86  226.30   753\n",
       "4                    57.97  50.00   459      8.22   8.00   459  2695.60 2841.07   459\n",
       "5                    19.86  18.00   610      4.75   5.00   610  1589.05 1298.22   610"
      ]
     },
     "execution_count": 219,
     "metadata": {},
     "output_type": "execute_result"
    }
   ],
   "source": [
    "hc = AgglomerativeClustering (n_clusters=6)\n",
    "segments = hc.fit_predict (scaled_df)\n",
    "rfm[\"Hierarchi_Segments\"] = segments\n",
    "rfm.groupby (\"Hierarchi_Segments\").agg ({\"Recency\": [\"mean\", \"median\", \"count\"],\n",
    "                                         \"Frequency\": [\"mean\", \"median\", \"count\"],\n",
    "                                         \"Monetary\": [\"mean\", \"median\", \"count\"]})"
   ]
  },
  {
   "cell_type": "code",
   "execution_count": 220,
   "metadata": {},
   "outputs": [
    {
     "data": {
      "image/png": "[encoded data removed]",
      "text/plain": [
       "<Figure size 1440x720 with 1 Axes>"
      ]
     },
     "metadata": {
      "needs_background": "light"
     },
     "output_type": "display_data"
    }
   ],
   "source": [
    "plt.figure (figsize=(20, 10))\n",
    "sns.boxplot (x=\"Hierarchi_Segments\", y=\"Monetary\", data=rfm)\n",
    "plt.show ();"
   ]
  },
  {
   "cell_type": "code",
   "execution_count": null,
   "metadata": {},
   "outputs": [],
   "source": []
  },
  {
   "cell_type": "markdown",
   "metadata": {},
   "source": [
    "# REPORTING"
   ]
  },
  {
   "cell_type": "markdown",
   "metadata": {},
   "source": [
    "The project's objective is to perform Customer Segmentation using K-Means and Hierarchical Clustering by leveraging RFM Metrics, while also exploring alternative metrics to enhance the depth of clustering insights.\n",
    "\n",
    "## Stages conducted within the scope of the project:\n",
    "\n",
    "### 1. Importing and Loading Phase:\n",
    "- Required Libraries and Functions imported and dataset read\n",
    "\n",
    "### 2. via Exploratory Data Analysis:\n",
    "- The structural information of the data set was examined.\n",
    "- Descriptive statistics of the data set were examined.\n",
    "- The size information of the data set has been reached.\n",
    "- The types of categorical and numerical variables in the data set were examined and visualized.\n",
    "- Categorical and numerical variables were analyzed.\n",
    "- Correlation between variables observed and visualized.\n",
    "\n",
    "### 3. In data preprocessing process:\n",
    "\n",
    "- As a result of the outlier analysis, 3 variables(Recency,Frequency,Monetary) with outliers were observed  among the numerical variables and were suppressed by the threshold values determined by the IQR values.\n",
    "- During the Feature Extraction phase, 3 new variables were produced.\n",
    "- Before the modeling phase, the variables were scaled with the StandartScaler method.\n",
    "\n",
    "### 4. In Model Building Phase:\n",
    "\n",
    "This stage encompasses the process of constructing your model using data mining techniques to perform customer segmentation. To determine customer segments, we applied two different methods: K-Means Clustering and Hierarchical Clustering.\n",
    "\n",
    "**K-Means Clustering**: Firstly, we scaled the data and utilized the \"Elbow Method\" to determine the optimal number of clusters. The K-Means algorithm was then executed with the determined optimal cluster count. Each customer was assigned to these clusters, resulting in the creation of the \"KMeans_Segments\" column, indicating the segment to which each customer belongs. Subsequently, the means and medians of Recency, Frequency, and Monetary values were calculated for each segment.\n",
    "\n",
    "Additionally, box plots of \"Monetary\" values were drawn to visualize these segments.\n",
    "\n",
    "**Hierarchical Clustering**: As the second method, a hierarchical clustering tree was constructed using the data. This tree was visualized using a dendrogram, and a specific similarity threshold at 1.2 was applied to cut the tree. This cut was used to partition customers into subgroups, and each customer was assigned a \"Hierarchi_Segments\" column, indicating their segment based on the results of hierarchical clustering.\n",
    "\n",
    "Finally, means and medians of Recency, Frequency, and Monetary values were calculated for each hierarchical segment. Box plots of \"Monetary\" values were also drawn to visualize these segments.\n",
    "\n",
    "These two distinct clustering methods assist in understanding customer behaviors and values, forming a crucial foundation for determining marketing strategies and objectives.\n",
    "\n"
   ]
  }
 ],
 "metadata": {
  "kernelspec": {
   "display_name": "Python 3",
   "language": "python",
   "name": "python3"
  },
  "language_info": {
   "codemirror_mode": {
    "name": "ipython",
    "version": 3
   },
   "file_extension": ".py",
   "mimetype": "text/x-python",
   "name": "python",
   "nbconvert_exporter": "python",
   "pygments_lexer": "ipython3",
   "version": "3.9.13"
  },
  "orig_nbformat": 4
 },
 "nbformat": 4,
 "nbformat_minor": 2
}
